{
 "cells": [
  {
   "cell_type": "markdown",
   "metadata": {},
   "source": [
    "The Goal is to predict weapon type used based on the year, target type, country, and attack type"
   ]
  },
  {
   "cell_type": "code",
   "execution_count": 1,
   "metadata": {},
   "outputs": [],
   "source": [
    "# Import Libraries\n",
    "import pandas as pd\n",
    "import numpy as np\n",
    "from sklearn.preprocessing import OneHotEncoder\n",
    "import statsmodels.api as sm"
   ]
  },
  {
   "cell_type": "code",
   "execution_count": 2,
   "metadata": {},
   "outputs": [],
   "source": [
    "# Read files\n",
    "df = pd.read_excel('files\\\\GTD\\\\globalterrorismdb_0522dist.xlsx')"
   ]
  },
  {
   "cell_type": "code",
   "execution_count": 3,
   "metadata": {},
   "outputs": [
    {
     "data": {
      "text/html": [
       "<div>\n",
       "<style scoped>\n",
       "    .dataframe tbody tr th:only-of-type {\n",
       "        vertical-align: middle;\n",
       "    }\n",
       "\n",
       "    .dataframe tbody tr th {\n",
       "        vertical-align: top;\n",
       "    }\n",
       "\n",
       "    .dataframe thead th {\n",
       "        text-align: right;\n",
       "    }\n",
       "</style>\n",
       "<table border=\"1\" class=\"dataframe\">\n",
       "  <thead>\n",
       "    <tr style=\"text-align: right;\">\n",
       "      <th></th>\n",
       "      <th>iyear</th>\n",
       "      <th>country_txt</th>\n",
       "      <th>attacktype1</th>\n",
       "      <th>targtype1</th>\n",
       "      <th>weaptype1_txt</th>\n",
       "    </tr>\n",
       "  </thead>\n",
       "  <tbody>\n",
       "    <tr>\n",
       "      <th>0</th>\n",
       "      <td>1970</td>\n",
       "      <td>Dominican Republic</td>\n",
       "      <td>1</td>\n",
       "      <td>14</td>\n",
       "      <td>Unknown</td>\n",
       "    </tr>\n",
       "    <tr>\n",
       "      <th>1</th>\n",
       "      <td>1970</td>\n",
       "      <td>Mexico</td>\n",
       "      <td>6</td>\n",
       "      <td>7</td>\n",
       "      <td>Unknown</td>\n",
       "    </tr>\n",
       "    <tr>\n",
       "      <th>2</th>\n",
       "      <td>1970</td>\n",
       "      <td>Philippines</td>\n",
       "      <td>1</td>\n",
       "      <td>10</td>\n",
       "      <td>Unknown</td>\n",
       "    </tr>\n",
       "    <tr>\n",
       "      <th>3</th>\n",
       "      <td>1970</td>\n",
       "      <td>Greece</td>\n",
       "      <td>3</td>\n",
       "      <td>7</td>\n",
       "      <td>Explosives</td>\n",
       "    </tr>\n",
       "    <tr>\n",
       "      <th>4</th>\n",
       "      <td>1970</td>\n",
       "      <td>Japan</td>\n",
       "      <td>7</td>\n",
       "      <td>7</td>\n",
       "      <td>Incendiary</td>\n",
       "    </tr>\n",
       "    <tr>\n",
       "      <th>...</th>\n",
       "      <td>...</td>\n",
       "      <td>...</td>\n",
       "      <td>...</td>\n",
       "      <td>...</td>\n",
       "      <td>...</td>\n",
       "    </tr>\n",
       "    <tr>\n",
       "      <th>209701</th>\n",
       "      <td>2020</td>\n",
       "      <td>Yemen</td>\n",
       "      <td>3</td>\n",
       "      <td>14</td>\n",
       "      <td>Explosives</td>\n",
       "    </tr>\n",
       "    <tr>\n",
       "      <th>209702</th>\n",
       "      <td>2020</td>\n",
       "      <td>Yemen</td>\n",
       "      <td>3</td>\n",
       "      <td>14</td>\n",
       "      <td>Explosives</td>\n",
       "    </tr>\n",
       "    <tr>\n",
       "      <th>209703</th>\n",
       "      <td>2020</td>\n",
       "      <td>Germany</td>\n",
       "      <td>7</td>\n",
       "      <td>4</td>\n",
       "      <td>Incendiary</td>\n",
       "    </tr>\n",
       "    <tr>\n",
       "      <th>209704</th>\n",
       "      <td>2020</td>\n",
       "      <td>Afghanistan</td>\n",
       "      <td>2</td>\n",
       "      <td>14</td>\n",
       "      <td>Firearms</td>\n",
       "    </tr>\n",
       "    <tr>\n",
       "      <th>209705</th>\n",
       "      <td>2020</td>\n",
       "      <td>Burkina Faso</td>\n",
       "      <td>2</td>\n",
       "      <td>4</td>\n",
       "      <td>Firearms</td>\n",
       "    </tr>\n",
       "  </tbody>\n",
       "</table>\n",
       "<p>209706 rows × 5 columns</p>\n",
       "</div>"
      ],
      "text/plain": [
       "        iyear         country_txt  attacktype1  targtype1 weaptype1_txt\n",
       "0        1970  Dominican Republic            1         14       Unknown\n",
       "1        1970              Mexico            6          7       Unknown\n",
       "2        1970         Philippines            1         10       Unknown\n",
       "3        1970              Greece            3          7    Explosives\n",
       "4        1970               Japan            7          7    Incendiary\n",
       "...       ...                 ...          ...        ...           ...\n",
       "209701   2020               Yemen            3         14    Explosives\n",
       "209702   2020               Yemen            3         14    Explosives\n",
       "209703   2020             Germany            7          4    Incendiary\n",
       "209704   2020         Afghanistan            2         14      Firearms\n",
       "209705   2020        Burkina Faso            2          4      Firearms\n",
       "\n",
       "[209706 rows x 5 columns]"
      ]
     },
     "metadata": {},
     "output_type": "display_data"
    }
   ],
   "source": [
    "df = df[['iyear', 'country_txt', 'attacktype1', 'targtype1', 'weaptype1_txt']]\n",
    "display(df)"
   ]
  },
  {
   "cell_type": "code",
   "execution_count": 4,
   "metadata": {},
   "outputs": [],
   "source": [
    "y = df['weaptype1_txt']\n",
    "x = df.drop(columns={'weaptype1_txt'})"
   ]
  },
  {
   "cell_type": "code",
   "execution_count": 5,
   "metadata": {},
   "outputs": [],
   "source": [
    "enc = OneHotEncoder()\n",
    "# Transforming categorical values to matrix\n",
    "y = enc.fit_transform(y.values.reshape(-1,1))\n",
    "\n",
    "x_cat = x['country_txt']\n",
    "x_cat = enc.fit_transform(x_cat.values.reshape(-1,1))\n",
    "x_cat = x_cat.toarray()\n",
    "\n",
    "x_num = x.drop(columns={'country_txt'})\n",
    "x_num = x_num.values\n",
    "\n",
    "X = np.concatenate([x_cat, x_num], axis = 1)"
   ]
  },
  {
   "cell_type": "code",
   "execution_count": null,
   "metadata": {},
   "outputs": [],
   "source": [
    "# Add constant for an intercept\n",
    "# Do we need intercept?\n",
    "X = sm.add_constant(X)\n",
    "\n"
   ]
  }
 ],
 "metadata": {
  "kernelspec": {
   "display_name": "base",
   "language": "python",
   "name": "python3"
  },
  "language_info": {
   "codemirror_mode": {
    "name": "ipython",
    "version": 3
   },
   "file_extension": ".py",
   "mimetype": "text/x-python",
   "name": "python",
   "nbconvert_exporter": "python",
   "pygments_lexer": "ipython3",
   "version": "3.10.13"
  }
 },
 "nbformat": 4,
 "nbformat_minor": 2
}
