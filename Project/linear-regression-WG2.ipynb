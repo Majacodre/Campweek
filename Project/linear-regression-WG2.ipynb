{
 "cells": [
  {
   "cell_type": "markdown",
   "metadata": {},
   "source": [
    "The Goal is to predict weapon type used based on the year, target type, country, and attack type"
   ]
  },
  {
   "cell_type": "code",
   "execution_count": 44,
   "metadata": {},
   "outputs": [],
   "source": [
    "# Import Libraries\n",
    "import pandas as pd\n",
    "import numpy as np\n",
    "from sklearn.preprocessing import OneHotEncoder\n",
    "import statsmodels.api as sm\n",
    "import sklearn.model_selection\n",
    "from sklearn.linear_model import LogisticRegression\n",
    "from sklearn.metrics import accuracy_score"
   ]
  },
  {
   "cell_type": "code",
   "execution_count": 14,
   "metadata": {},
   "outputs": [],
   "source": [
    "# Read files\n",
    "df = pd.read_excel('files/GTD/globalterrorismdb_0522dist.xlsx')"
   ]
  },
  {
   "cell_type": "code",
   "execution_count": 40,
   "metadata": {},
   "outputs": [
    {
     "data": {
      "text/html": [
       "<div>\n",
       "<style scoped>\n",
       "    .dataframe tbody tr th:only-of-type {\n",
       "        vertical-align: middle;\n",
       "    }\n",
       "\n",
       "    .dataframe tbody tr th {\n",
       "        vertical-align: top;\n",
       "    }\n",
       "\n",
       "    .dataframe thead th {\n",
       "        text-align: right;\n",
       "    }\n",
       "</style>\n",
       "<table border=\"1\" class=\"dataframe\">\n",
       "  <thead>\n",
       "    <tr style=\"text-align: right;\">\n",
       "      <th></th>\n",
       "      <th>index</th>\n",
       "      <th>iyear</th>\n",
       "      <th>country_txt</th>\n",
       "      <th>attacktype1</th>\n",
       "      <th>targtype1</th>\n",
       "      <th>weaptype1_txt</th>\n",
       "    </tr>\n",
       "  </thead>\n",
       "  <tbody>\n",
       "    <tr>\n",
       "      <th>0</th>\n",
       "      <td>3</td>\n",
       "      <td>1970</td>\n",
       "      <td>Greece</td>\n",
       "      <td>3</td>\n",
       "      <td>7</td>\n",
       "      <td>Explosives</td>\n",
       "    </tr>\n",
       "    <tr>\n",
       "      <th>1</th>\n",
       "      <td>4</td>\n",
       "      <td>1970</td>\n",
       "      <td>Japan</td>\n",
       "      <td>7</td>\n",
       "      <td>7</td>\n",
       "      <td>Incendiary</td>\n",
       "    </tr>\n",
       "    <tr>\n",
       "      <th>2</th>\n",
       "      <td>5</td>\n",
       "      <td>1970</td>\n",
       "      <td>United States</td>\n",
       "      <td>2</td>\n",
       "      <td>3</td>\n",
       "      <td>Firearms</td>\n",
       "    </tr>\n",
       "    <tr>\n",
       "      <th>3</th>\n",
       "      <td>6</td>\n",
       "      <td>1970</td>\n",
       "      <td>Uruguay</td>\n",
       "      <td>1</td>\n",
       "      <td>3</td>\n",
       "      <td>Firearms</td>\n",
       "    </tr>\n",
       "    <tr>\n",
       "      <th>4</th>\n",
       "      <td>7</td>\n",
       "      <td>1970</td>\n",
       "      <td>United States</td>\n",
       "      <td>3</td>\n",
       "      <td>21</td>\n",
       "      <td>Explosives</td>\n",
       "    </tr>\n",
       "    <tr>\n",
       "      <th>...</th>\n",
       "      <td>...</td>\n",
       "      <td>...</td>\n",
       "      <td>...</td>\n",
       "      <td>...</td>\n",
       "      <td>...</td>\n",
       "      <td>...</td>\n",
       "    </tr>\n",
       "    <tr>\n",
       "      <th>189498</th>\n",
       "      <td>209701</td>\n",
       "      <td>2020</td>\n",
       "      <td>Yemen</td>\n",
       "      <td>3</td>\n",
       "      <td>14</td>\n",
       "      <td>Explosives</td>\n",
       "    </tr>\n",
       "    <tr>\n",
       "      <th>189499</th>\n",
       "      <td>209702</td>\n",
       "      <td>2020</td>\n",
       "      <td>Yemen</td>\n",
       "      <td>3</td>\n",
       "      <td>14</td>\n",
       "      <td>Explosives</td>\n",
       "    </tr>\n",
       "    <tr>\n",
       "      <th>189500</th>\n",
       "      <td>209703</td>\n",
       "      <td>2020</td>\n",
       "      <td>Germany</td>\n",
       "      <td>7</td>\n",
       "      <td>4</td>\n",
       "      <td>Incendiary</td>\n",
       "    </tr>\n",
       "    <tr>\n",
       "      <th>189501</th>\n",
       "      <td>209704</td>\n",
       "      <td>2020</td>\n",
       "      <td>Afghanistan</td>\n",
       "      <td>2</td>\n",
       "      <td>14</td>\n",
       "      <td>Firearms</td>\n",
       "    </tr>\n",
       "    <tr>\n",
       "      <th>189502</th>\n",
       "      <td>209705</td>\n",
       "      <td>2020</td>\n",
       "      <td>Burkina Faso</td>\n",
       "      <td>2</td>\n",
       "      <td>4</td>\n",
       "      <td>Firearms</td>\n",
       "    </tr>\n",
       "  </tbody>\n",
       "</table>\n",
       "<p>189503 rows × 6 columns</p>\n",
       "</div>"
      ],
      "text/plain": [
       "         index  iyear    country_txt  attacktype1  targtype1 weaptype1_txt\n",
       "0            3   1970         Greece            3          7    Explosives\n",
       "1            4   1970          Japan            7          7    Incendiary\n",
       "2            5   1970  United States            2          3      Firearms\n",
       "3            6   1970        Uruguay            1          3      Firearms\n",
       "4            7   1970  United States            3         21    Explosives\n",
       "...        ...    ...            ...          ...        ...           ...\n",
       "189498  209701   2020          Yemen            3         14    Explosives\n",
       "189499  209702   2020          Yemen            3         14    Explosives\n",
       "189500  209703   2020        Germany            7          4    Incendiary\n",
       "189501  209704   2020    Afghanistan            2         14      Firearms\n",
       "189502  209705   2020   Burkina Faso            2          4      Firearms\n",
       "\n",
       "[189503 rows x 6 columns]"
      ]
     },
     "metadata": {},
     "output_type": "display_data"
    }
   ],
   "source": [
    "df_interest = df[['iyear', 'country_txt', 'attacktype1', 'targtype1', 'weaptype1_txt']]\n",
    "df_cleaned = df_interest[df_interest['weaptype1_txt'] != 'Unknown']\n",
    "df_cleaned = df_cleaned.dropna().reset_index()\n",
    "display(df_cleaned)"
   ]
  },
  {
   "cell_type": "code",
   "execution_count": 53,
   "metadata": {},
   "outputs": [
    {
     "name": "stdout",
     "output_type": "stream",
     "text": [
      "Accuracy: 0.5486662621039022\n"
     ]
    },
    {
     "name": "stderr",
     "output_type": "stream",
     "text": [
      "/Library/Frameworks/Python.framework/Versions/3.10/lib/python3.10/site-packages/sklearn/linear_model/_logistic.py:460: ConvergenceWarning: lbfgs failed to converge (status=1):\n",
      "STOP: TOTAL NO. of ITERATIONS REACHED LIMIT.\n",
      "\n",
      "Increase the number of iterations (max_iter) or scale the data as shown in:\n",
      "    https://scikit-learn.org/stable/modules/preprocessing.html\n",
      "Please also refer to the documentation for alternative solver options:\n",
      "    https://scikit-learn.org/stable/modules/linear_model.html#logistic-regression\n",
      "  n_iter_i = _check_optimize_result(\n"
     ]
    }
   ],
   "source": [
    "df_encoded = pd.get_dummies(df_cleaned, columns=['country_txt', 'attacktype1', 'targtype1'])\n",
    "\n",
    "X = df_encoded.drop('weaptype1_txt', axis=1)\n",
    "y = df_encoded['weaptype1_txt']\n",
    "X_intercept = sm.add_constant(X)\n",
    "\n",
    "X_train, X_test, y_train, y_test = sklearn.model_selection.train_test_split(X_intercept, y, test_size=0.2, random_state=42)\n",
    "\n",
    "model = LogisticRegression(max_iter=5).fit(X_train, y_train)\n",
    "\n",
    "y_pred = model.predict(X_test)\n",
    "\n",
    "accuracy = accuracy_score(y_test, y_pred)\n",
    "print(\"Accuracy:\", accuracy)"
   ]
  },
  {
   "cell_type": "code",
   "execution_count": 5,
   "metadata": {},
   "outputs": [],
   "source": [
    "'''\n",
    "enc = OneHotEncoder()\n",
    "# Transforming categorical values to matrix\n",
    "y = enc.fit_transform(y.values.reshape(-1,1))\n",
    "\n",
    "x_cat = x['country_txt']\n",
    "x_cat = enc.fit_transform(x_cat.values.reshape(-1,1))\n",
    "x_cat = x_cat.toarray()\n",
    "\n",
    "x_num = x.drop(columns={'country_txt'})\n",
    "x_num = x_num.values\n",
    "\n",
    "X = np.concatenate([x_cat, x_num], axis = 1)\n",
    "'''"
   ]
  },
  {
   "cell_type": "code",
   "execution_count": null,
   "metadata": {},
   "outputs": [],
   "source": []
  }
 ],
 "metadata": {
  "kernelspec": {
   "display_name": "base",
   "language": "python",
   "name": "python3"
  },
  "language_info": {
   "codemirror_mode": {
    "name": "ipython",
    "version": 3
   },
   "file_extension": ".py",
   "mimetype": "text/x-python",
   "name": "python",
   "nbconvert_exporter": "python",
   "pygments_lexer": "ipython3",
   "version": "3.10.0"
  }
 },
 "nbformat": 4,
 "nbformat_minor": 2
}
