{
 "cells": [
  {
   "cell_type": "markdown",
   "id": "1b4b07a8",
   "metadata": {},
   "source": [
    "# Foundations of Linear Regression"
   ]
  },
  {
   "cell_type": "code",
   "execution_count": 2,
   "id": "6efa7db9",
   "metadata": {},
   "outputs": [],
   "source": [
    "import numpy as np\n",
    "from scipy.stats import norm"
   ]
  },
  {
   "cell_type": "markdown",
   "id": "3339f782",
   "metadata": {},
   "source": [
    "## Exercise 1: Understanding the Likelihood of Observations Under a Given Gaussian Model "
   ]
  },
  {
   "cell_type": "markdown",
   "id": "6b8f06a5",
   "metadata": {},
   "source": [
    "### Question 1a: Gaussian Likelihood Function\n",
    "Write a function to compute the likelihood of observing a set of values under a normal distribution with mean mu and variance sigma^2. The function should accept an observation Y, a mean value mu, and a standard deviation sigma, and return the likelihood of observing Y under these parameters."
   ]
  },
  {
   "cell_type": "code",
   "execution_count": 3,
   "id": "4f84aac6",
   "metadata": {},
   "outputs": [],
   "source": [
    "def normal_pdf(y, mu, sigma):\n",
    "    return norm.pdf(y, mu, sigma)"
   ]
  },
  {
   "cell_type": "markdown",
   "id": "ed8abc44",
   "metadata": {},
   "source": [
    "### Question 1b: Likelihood Under Standard Normal Model\n",
    "Simulate a sequence of values from -5 to 5 (with a step of 0.1) and calculate the likelihood of each value under a Standard Normal model (mu=0, sigma=1). Plot these likelihood values and discuss the shape of the plot."
   ]
  },
  {
   "cell_type": "code",
   "execution_count": 8,
   "id": "f9c53645",
   "metadata": {},
   "outputs": [
    {
     "data": {
      "text/plain": [
       "[<matplotlib.lines.Line2D at 0x1999c964550>]"
      ]
     },
     "execution_count": 8,
     "metadata": {},
     "output_type": "execute_result"
    },
    {
     "data": {
      "image/png": "[encoded data removed]",
      "text/plain": [
       "<Figure size 640x480 with 1 Axes>"
      ]
     },
     "metadata": {},
     "output_type": "display_data"
    }
   ],
   "source": [
    "import matplotlib.pyplot as plt\n",
    "\n",
    "Y = np.linspace(-5.0,5.0,101)\n",
    "# mu = sum(Y)/len(Y)\n",
    "mu = 0\n",
    "# sigma = np.std(Y)\n",
    "sigma = 1\n",
    "\n",
    "model = normal_pdf(Y,mu,sigma)\n",
    "\n",
    "plt.plot(model)"
   ]
  },
  {
   "cell_type": "markdown",
   "id": "60af180f",
   "metadata": {},
   "source": [
    "## Exercise 2: Playing with Linear Regression\n",
    "\n",
    "We will work with the `Time-for-change` regression model to predict the results of the US elections. The goal of the model is to estimate the % of the two-party (Republican + Democrat) vote from 3 variables: the `incumbency` (i.e. whether the incumbent party candidate is seeking re-election or if it's a new candidate) of the president; the growth rate of the economy; and the approval rating of the incumbent party president. "
   ]
  },
  {
   "cell_type": "markdown",
   "id": "7c423554",
   "metadata": {},
   "source": [
    "### Question 2a: Linear Regression Model\n",
    "Estimate a linear regression model to predict vote share using at least one categorical variable (if applicable) and one numeric variable."
   ]
  },
  {
   "cell_type": "code",
   "execution_count": 12,
   "id": "dba41ad4",
   "metadata": {},
   "outputs": [],
   "source": [
    "import os\n",
    "\n",
    "# Change working directory to where you store the Camp files \n",
    "os.chdir('./')"
   ]
  },
  {
   "cell_type": "code",
   "execution_count": 13,
   "id": "6b9ee7ff",
   "metadata": {},
   "outputs": [],
   "source": [
    "import pandas as pd\n",
    "\n",
    "# load Historical Election Results dataset\n",
    "df = pd.read_csv('1976-2020-president-2.csv')"
   ]
  },
  {
   "cell_type": "markdown",
   "id": "65204f6e",
   "metadata": {},
   "source": [
    "Here I want to include in this dataset the necessary tools to perform the `time for change` model. I need to augment the dataset with a) the `incumbency` of the party / president ; b) the real GDP growth in the year of the election; c) the `approval rating` of the incumbent president on the eve of the election. "
   ]
  },
  {
   "cell_type": "code",
   "execution_count": 14,
   "id": "fe8860f8",
   "metadata": {},
   "outputs": [],
   "source": [
    "# Here we do a little data Wrangling to improve the dataset for analysis\n",
    "\n",
    "# Focus on Democrats and Republicans only \n",
    "df = df[df['party_simplified'].str.contains('DEMOCRAT') | df['party_simplified'].str.contains('REPUBLICAN')]\n",
    "\n",
    "# Calculate the two-party total votes for each state and year\n",
    "df['two_party_total'] = df.groupby(['year', 'state'])['candidatevotes'].transform('sum')\n",
    "\n",
    "# Calculate the percentage of the two-party vote afforded to each party\n",
    "df['pct_2p_vote'] = 100*df['candidatevotes'] / df['two_party_total']\n",
    "\n",
    "# define a function that returns the incumbent and whether the incumbent party is seeking their 2nd term in office\n",
    "def identify_incumbent_complete(year):\n",
    "    if year in [1976]:\n",
    "        return ('REPUBLICAN', 0)  # Ford (Continuing Nixon's term)\n",
    "    elif year in [1980]:\n",
    "        return ('DEMOCRAT', 1)  # Carter\n",
    "    elif year in [1984, 1988]:\n",
    "        return ('REPUBLICAN', 1 if year == 1984 else 0)  # Reagan\n",
    "    elif year in [1992]:\n",
    "        return ('REPUBLICAN', 0)  # H.W. Bush (continuing Republican (Reagan) term)\n",
    "    elif year in [1996, 2000]:\n",
    "        return ('DEMOCRAT', 1 if year == 1996 else 0)  # Clinton\n",
    "    elif year in [2004, 2008]:\n",
    "        return ('REPUBLICAN', 1 if year == 2004 else 0)  # W. Bush\n",
    "    elif year in [2012, 2016]:\n",
    "        return ('DEMOCRAT', 1 if year == 2012 else 0)  # Obama\n",
    "    elif year in [2020]:\n",
    "        return ('REPUBLICAN', 1)  # Trump\n",
    "    else:\n",
    "        return ('None', 0)  # Default for years without a U.S. presidential election\n",
    "\n",
    "# Apply the function to each row\n",
    "df['incumbent_party'] = 'None'\n",
    "df['term2'] = 0\n",
    "for index, row in df.iterrows():\n",
    "    incumbent_party, term2 = identify_incumbent_complete(row['year'])\n",
    "    df.at[index, 'incumbent_party'] = incumbent_party\n",
    "    df.at[index, 'term2'] = term2\n",
    "\n",
    "# Now we can focus on the incumbent party, and focus our analysis to ask `what is the chance that the share of the vote the incmumbent will get ? \n",
    "df['incumbent_dummy'] = np.where(df['incumbent_party']==df['party_simplified'],1,0)\n",
    "df = df[df['incumbent_dummy'] == 1]\n",
    "\n",
    "# and we only need a few variables \n",
    "df = df[['year','state','pct_2p_vote','term2']]"
   ]
  },
  {
   "cell_type": "code",
   "execution_count": 16,
   "id": "0b6ec76e",
   "metadata": {},
   "outputs": [],
   "source": [
    "# augment with national GDP data \n",
    "aux_gdp = pd.read_csv('Historical_National.US.GDP.csv')\n",
    "aux_gdp = aux_gdp[aux_gdp['Items']=='Gross domestic product']\n",
    "\n",
    "# melt \n",
    "aux_gdp = pd.melt(aux_gdp, id_vars='Items',var_name='year',value_name='real_gdp_pct_growth')\n",
    "aux_gdp = aux_gdp[['year','real_gdp_pct_growth']]\n",
    "aux_gdp['real_gdp_pct_growth'] = pd.to_numeric(aux_gdp['real_gdp_pct_growth'])\n",
    "\n",
    "# merge with df \n",
    "df['year'] = df['year'].astype(int)  # Convert to int\n",
    "aux_gdp['year'] = aux_gdp['year'].astype(int)  # Ensure this matches df\n",
    "df = pd.merge(df, aux_gdp, on='year', how='left')"
   ]
  },
  {
   "cell_type": "code",
   "execution_count": 18,
   "id": "95fedec9",
   "metadata": {},
   "outputs": [],
   "source": [
    "# augment with incumbent's approval rating\n",
    "aux_app = pd.read_csv('Historical_President.Approval.Polls_Gallup.csv')\n",
    "aux_app['net_approval'] = aux_app['Approving'] - aux_app['Disapproving']\n",
    "\n",
    "# select only the approval polls right closest to the election\n",
    "import pandas as pd\n",
    "\n",
    "def last_approval_before_election(data):\n",
    "    \"\"\"\n",
    "    Selects the last approval poll before each presidential election in the dataset.\n",
    "    \n",
    "    :param data: A pandas DataFrame with columns 'Start Date', 'End Date', 'Approving', 'Disapproving', 'Unsure/NoData', and 'net_approval'.\n",
    "    :return: A pandas DataFrame with the selected polls.\n",
    "    \"\"\"\n",
    "    # Convert date columns to datetime\n",
    "    data['Start Date'] = pd.to_datetime(data['Start Date'])\n",
    "    data['End Date'] = pd.to_datetime(data['End Date'])\n",
    "    \n",
    "    # Sort the data by 'End Date' to ensure chronological order\n",
    "    data.sort_values(by='End Date', inplace=True)\n",
    "    \n",
    "    # Identify the range of years in the dataset\n",
    "    start_year = data['End Date'].dt.year.min()\n",
    "    end_year = data['End Date'].dt.year.max()\n",
    "    \n",
    "    # Presidential elections are held every 4 years, starting from 1944\n",
    "    election_years = [year for year in range(start_year, end_year+1) if year % 4 == 0 and year >= 1944]\n",
    "    \n",
    "    selected_polls = []\n",
    "    for year in election_years:\n",
    "        # Election date: first Tuesday after the first Monday in November\n",
    "        # Simplification: use November 1st as a base, then adjust\n",
    "        base_date = pd.Timestamp(year=year, month=11, day=1)\n",
    "        day_of_week = base_date.dayofweek\n",
    "        election_date = base_date + pd.Timedelta(days=(1-day_of_week) % 7 + 1)\n",
    "        \n",
    "        # Select the last poll before the election\n",
    "        last_poll = data[data['End Date'] < election_date].iloc[-1]\n",
    "        selected_polls.append(last_poll)\n",
    "    \n",
    "    return pd.DataFrame(selected_polls)\n",
    "\n",
    "# apply the function\n",
    "aux_app = last_approval_before_election(aux_app)\n",
    "\n",
    "# extract relevant year\n",
    "aux_app['year'] = aux_app['End Date'].astype(str).str[:4].astype(int)\n",
    "\n",
    "# drop unnecessary variables \n",
    "aux_app = aux_app[['year','net_approval']]\n",
    "\n",
    "# merge with election results dataset \n",
    "df = pd.merge(df, aux_app, on='year', how='left')"
   ]
  },
  {
   "cell_type": "code",
   "execution_count": 20,
   "id": "7fc4061f",
   "metadata": {
    "scrolled": false
   },
   "outputs": [
    {
     "name": "stdout",
     "output_type": "stream",
     "text": [
      "     year          state  pct_2p_vote  term2  real_gdp_pct_growth  \\\n",
      "0    1976        ALABAMA    43.333276      0                  5.4   \n",
      "1    1976         ALASKA    61.891829      0                  5.4   \n",
      "2    1976        ARIZONA    58.613303      0                  5.4   \n",
      "3    1976       ARKANSAS    34.951149      0                  5.4   \n",
      "4    1976     CALIFORNIA    50.917827      0                  5.4   \n",
      "..    ...            ...          ...    ...                  ...   \n",
      "609  2020       VIRGINIA    44.845313      1                 -2.2   \n",
      "610  2020     WASHINGTON    40.074497      1                 -2.2   \n",
      "611  2020  WEST VIRGINIA    69.798532      1                 -2.2   \n",
      "612  2020      WISCONSIN    49.680937      1                 -2.2   \n",
      "613  2020        WYOMING    72.480434      1                 -2.2   \n",
      "\n",
      "     net_approval  \n",
      "0               5  \n",
      "1               5  \n",
      "2               5  \n",
      "3               5  \n",
      "4               5  \n",
      "..            ...  \n",
      "609            -6  \n",
      "610            -6  \n",
      "611            -6  \n",
      "612            -6  \n",
      "613            -6  \n",
      "\n",
      "[614 rows x 6 columns]\n"
     ]
    }
   ],
   "source": [
    "# Let's see the results of our effors\n",
    "print(df)\n",
    "\n",
    "# Write this to a csv so we can use it in later workshops\n",
    "df.to_csv('clean_TFC_data.csv', index=False)"
   ]
  },
  {
   "cell_type": "markdown",
   "id": "3aab3565",
   "metadata": {},
   "source": [
    "### Now we estimate the `time for change` regression"
   ]
  },
  {
   "cell_type": "code",
   "execution_count": 40,
   "id": "0cbea9a9",
   "metadata": {},
   "outputs": [
    {
     "ename": "TypeError",
     "evalue": "ufunc 'isfinite' not supported for the input types, and the inputs could not be safely coerced to any supported types according to the casting rule ''safe''",
     "output_type": "error",
     "traceback": [
      "\u001b[1;31m---------------------------------------------------------------------------\u001b[0m",
      "\u001b[1;31mTypeError\u001b[0m                                 Traceback (most recent call last)",
      "Cell \u001b[1;32mIn[40], line 14\u001b[0m\n\u001b[0;32m     11\u001b[0m X \u001b[38;5;241m=\u001b[39m sm\u001b[38;5;241m.\u001b[39madd_constant(data[:, \u001b[38;5;241m-\u001b[39m\u001b[38;5;241m2\u001b[39m], prepend\u001b[38;5;241m=\u001b[39m\u001b[38;5;28;01mFalse\u001b[39;00m)\n\u001b[0;32m     13\u001b[0m \u001b[38;5;66;03m# Fit the model\u001b[39;00m\n\u001b[1;32m---> 14\u001b[0m model \u001b[38;5;241m=\u001b[39m sm\u001b[38;5;241m.\u001b[39mOLS(Y, X)\n\u001b[0;32m     16\u001b[0m model \u001b[38;5;241m=\u001b[39m model\u001b[38;5;241m.\u001b[39mfit()\n\u001b[0;32m     18\u001b[0m \u001b[38;5;28mprint\u001b[39m(model\u001b[38;5;241m.\u001b[39msummary())\n",
      "File \u001b[1;32mc:\\Users\\kianb\\anaconda3\\Lib\\site-packages\\statsmodels\\regression\\linear_model.py:922\u001b[0m, in \u001b[0;36mOLS.__init__\u001b[1;34m(self, endog, exog, missing, hasconst, **kwargs)\u001b[0m\n\u001b[0;32m    919\u001b[0m     msg \u001b[38;5;241m=\u001b[39m (\u001b[38;5;124m\"\u001b[39m\u001b[38;5;124mWeights are not supported in OLS and will be ignored\u001b[39m\u001b[38;5;124m\"\u001b[39m\n\u001b[0;32m    920\u001b[0m            \u001b[38;5;124m\"\u001b[39m\u001b[38;5;124mAn exception will be raised in the next version.\u001b[39m\u001b[38;5;124m\"\u001b[39m)\n\u001b[0;32m    921\u001b[0m     warnings\u001b[38;5;241m.\u001b[39mwarn(msg, ValueWarning)\n\u001b[1;32m--> 922\u001b[0m \u001b[38;5;28msuper\u001b[39m(OLS, \u001b[38;5;28mself\u001b[39m)\u001b[38;5;241m.\u001b[39m\u001b[38;5;21m__init__\u001b[39m(endog, exog, missing\u001b[38;5;241m=\u001b[39mmissing,\n\u001b[0;32m    923\u001b[0m                           hasconst\u001b[38;5;241m=\u001b[39mhasconst, \u001b[38;5;241m*\u001b[39m\u001b[38;5;241m*\u001b[39mkwargs)\n\u001b[0;32m    924\u001b[0m \u001b[38;5;28;01mif\u001b[39;00m \u001b[38;5;124m\"\u001b[39m\u001b[38;5;124mweights\u001b[39m\u001b[38;5;124m\"\u001b[39m \u001b[38;5;129;01min\u001b[39;00m \u001b[38;5;28mself\u001b[39m\u001b[38;5;241m.\u001b[39m_init_keys:\n\u001b[0;32m    925\u001b[0m     \u001b[38;5;28mself\u001b[39m\u001b[38;5;241m.\u001b[39m_init_keys\u001b[38;5;241m.\u001b[39mremove(\u001b[38;5;124m\"\u001b[39m\u001b[38;5;124mweights\u001b[39m\u001b[38;5;124m\"\u001b[39m)\n",
      "File \u001b[1;32mc:\\Users\\kianb\\anaconda3\\Lib\\site-packages\\statsmodels\\regression\\linear_model.py:748\u001b[0m, in \u001b[0;36mWLS.__init__\u001b[1;34m(self, endog, exog, weights, missing, hasconst, **kwargs)\u001b[0m\n\u001b[0;32m    746\u001b[0m \u001b[38;5;28;01melse\u001b[39;00m:\n\u001b[0;32m    747\u001b[0m     weights \u001b[38;5;241m=\u001b[39m weights\u001b[38;5;241m.\u001b[39msqueeze()\n\u001b[1;32m--> 748\u001b[0m \u001b[38;5;28msuper\u001b[39m(WLS, \u001b[38;5;28mself\u001b[39m)\u001b[38;5;241m.\u001b[39m\u001b[38;5;21m__init__\u001b[39m(endog, exog, missing\u001b[38;5;241m=\u001b[39mmissing,\n\u001b[0;32m    749\u001b[0m                           weights\u001b[38;5;241m=\u001b[39mweights, hasconst\u001b[38;5;241m=\u001b[39mhasconst, \u001b[38;5;241m*\u001b[39m\u001b[38;5;241m*\u001b[39mkwargs)\n\u001b[0;32m    750\u001b[0m nobs \u001b[38;5;241m=\u001b[39m \u001b[38;5;28mself\u001b[39m\u001b[38;5;241m.\u001b[39mexog\u001b[38;5;241m.\u001b[39mshape[\u001b[38;5;241m0\u001b[39m]\n\u001b[0;32m    751\u001b[0m weights \u001b[38;5;241m=\u001b[39m \u001b[38;5;28mself\u001b[39m\u001b[38;5;241m.\u001b[39mweights\n",
      "File \u001b[1;32mc:\\Users\\kianb\\anaconda3\\Lib\\site-packages\\statsmodels\\regression\\linear_model.py:202\u001b[0m, in \u001b[0;36mRegressionModel.__init__\u001b[1;34m(self, endog, exog, **kwargs)\u001b[0m\n\u001b[0;32m    201\u001b[0m \u001b[38;5;28;01mdef\u001b[39;00m \u001b[38;5;21m__init__\u001b[39m(\u001b[38;5;28mself\u001b[39m, endog, exog, \u001b[38;5;241m*\u001b[39m\u001b[38;5;241m*\u001b[39mkwargs):\n\u001b[1;32m--> 202\u001b[0m     \u001b[38;5;28msuper\u001b[39m(RegressionModel, \u001b[38;5;28mself\u001b[39m)\u001b[38;5;241m.\u001b[39m\u001b[38;5;21m__init__\u001b[39m(endog, exog, \u001b[38;5;241m*\u001b[39m\u001b[38;5;241m*\u001b[39mkwargs)\n\u001b[0;32m    203\u001b[0m     \u001b[38;5;28mself\u001b[39m\u001b[38;5;241m.\u001b[39mpinv_wexog: Float64Array \u001b[38;5;241m|\u001b[39m \u001b[38;5;28;01mNone\u001b[39;00m \u001b[38;5;241m=\u001b[39m \u001b[38;5;28;01mNone\u001b[39;00m\n\u001b[0;32m    204\u001b[0m     \u001b[38;5;28mself\u001b[39m\u001b[38;5;241m.\u001b[39m_data_attr\u001b[38;5;241m.\u001b[39mextend([\u001b[38;5;124m'\u001b[39m\u001b[38;5;124mpinv_wexog\u001b[39m\u001b[38;5;124m'\u001b[39m, \u001b[38;5;124m'\u001b[39m\u001b[38;5;124mwendog\u001b[39m\u001b[38;5;124m'\u001b[39m, \u001b[38;5;124m'\u001b[39m\u001b[38;5;124mwexog\u001b[39m\u001b[38;5;124m'\u001b[39m, \u001b[38;5;124m'\u001b[39m\u001b[38;5;124mweights\u001b[39m\u001b[38;5;124m'\u001b[39m])\n",
      "File \u001b[1;32mc:\\Users\\kianb\\anaconda3\\Lib\\site-packages\\statsmodels\\base\\model.py:270\u001b[0m, in \u001b[0;36mLikelihoodModel.__init__\u001b[1;34m(self, endog, exog, **kwargs)\u001b[0m\n\u001b[0;32m    269\u001b[0m \u001b[38;5;28;01mdef\u001b[39;00m \u001b[38;5;21m__init__\u001b[39m(\u001b[38;5;28mself\u001b[39m, endog, exog\u001b[38;5;241m=\u001b[39m\u001b[38;5;28;01mNone\u001b[39;00m, \u001b[38;5;241m*\u001b[39m\u001b[38;5;241m*\u001b[39mkwargs):\n\u001b[1;32m--> 270\u001b[0m     \u001b[38;5;28msuper\u001b[39m()\u001b[38;5;241m.\u001b[39m\u001b[38;5;21m__init__\u001b[39m(endog, exog, \u001b[38;5;241m*\u001b[39m\u001b[38;5;241m*\u001b[39mkwargs)\n\u001b[0;32m    271\u001b[0m     \u001b[38;5;28mself\u001b[39m\u001b[38;5;241m.\u001b[39minitialize()\n",
      "File \u001b[1;32mc:\\Users\\kianb\\anaconda3\\Lib\\site-packages\\statsmodels\\base\\model.py:95\u001b[0m, in \u001b[0;36mModel.__init__\u001b[1;34m(self, endog, exog, **kwargs)\u001b[0m\n\u001b[0;32m     93\u001b[0m missing \u001b[38;5;241m=\u001b[39m kwargs\u001b[38;5;241m.\u001b[39mpop(\u001b[38;5;124m'\u001b[39m\u001b[38;5;124mmissing\u001b[39m\u001b[38;5;124m'\u001b[39m, \u001b[38;5;124m'\u001b[39m\u001b[38;5;124mnone\u001b[39m\u001b[38;5;124m'\u001b[39m)\n\u001b[0;32m     94\u001b[0m hasconst \u001b[38;5;241m=\u001b[39m kwargs\u001b[38;5;241m.\u001b[39mpop(\u001b[38;5;124m'\u001b[39m\u001b[38;5;124mhasconst\u001b[39m\u001b[38;5;124m'\u001b[39m, \u001b[38;5;28;01mNone\u001b[39;00m)\n\u001b[1;32m---> 95\u001b[0m \u001b[38;5;28mself\u001b[39m\u001b[38;5;241m.\u001b[39mdata \u001b[38;5;241m=\u001b[39m \u001b[38;5;28mself\u001b[39m\u001b[38;5;241m.\u001b[39m_handle_data(endog, exog, missing, hasconst,\n\u001b[0;32m     96\u001b[0m                               \u001b[38;5;241m*\u001b[39m\u001b[38;5;241m*\u001b[39mkwargs)\n\u001b[0;32m     97\u001b[0m \u001b[38;5;28mself\u001b[39m\u001b[38;5;241m.\u001b[39mk_constant \u001b[38;5;241m=\u001b[39m \u001b[38;5;28mself\u001b[39m\u001b[38;5;241m.\u001b[39mdata\u001b[38;5;241m.\u001b[39mk_constant\n\u001b[0;32m     98\u001b[0m \u001b[38;5;28mself\u001b[39m\u001b[38;5;241m.\u001b[39mexog \u001b[38;5;241m=\u001b[39m \u001b[38;5;28mself\u001b[39m\u001b[38;5;241m.\u001b[39mdata\u001b[38;5;241m.\u001b[39mexog\n",
      "File \u001b[1;32mc:\\Users\\kianb\\anaconda3\\Lib\\site-packages\\statsmodels\\base\\model.py:135\u001b[0m, in \u001b[0;36mModel._handle_data\u001b[1;34m(self, endog, exog, missing, hasconst, **kwargs)\u001b[0m\n\u001b[0;32m    134\u001b[0m \u001b[38;5;28;01mdef\u001b[39;00m \u001b[38;5;21m_handle_data\u001b[39m(\u001b[38;5;28mself\u001b[39m, endog, exog, missing, hasconst, \u001b[38;5;241m*\u001b[39m\u001b[38;5;241m*\u001b[39mkwargs):\n\u001b[1;32m--> 135\u001b[0m     data \u001b[38;5;241m=\u001b[39m handle_data(endog, exog, missing, hasconst, \u001b[38;5;241m*\u001b[39m\u001b[38;5;241m*\u001b[39mkwargs)\n\u001b[0;32m    136\u001b[0m     \u001b[38;5;66;03m# kwargs arrays could have changed, easier to just attach here\u001b[39;00m\n\u001b[0;32m    137\u001b[0m     \u001b[38;5;28;01mfor\u001b[39;00m key \u001b[38;5;129;01min\u001b[39;00m kwargs:\n",
      "File \u001b[1;32mc:\\Users\\kianb\\anaconda3\\Lib\\site-packages\\statsmodels\\base\\data.py:675\u001b[0m, in \u001b[0;36mhandle_data\u001b[1;34m(endog, exog, missing, hasconst, **kwargs)\u001b[0m\n\u001b[0;32m    672\u001b[0m     exog \u001b[38;5;241m=\u001b[39m np\u001b[38;5;241m.\u001b[39masarray(exog)\n\u001b[0;32m    674\u001b[0m klass \u001b[38;5;241m=\u001b[39m handle_data_class_factory(endog, exog)\n\u001b[1;32m--> 675\u001b[0m \u001b[38;5;28;01mreturn\u001b[39;00m klass(endog, exog\u001b[38;5;241m=\u001b[39mexog, missing\u001b[38;5;241m=\u001b[39mmissing, hasconst\u001b[38;5;241m=\u001b[39mhasconst,\n\u001b[0;32m    676\u001b[0m              \u001b[38;5;241m*\u001b[39m\u001b[38;5;241m*\u001b[39mkwargs)\n",
      "File \u001b[1;32mc:\\Users\\kianb\\anaconda3\\Lib\\site-packages\\statsmodels\\base\\data.py:88\u001b[0m, in \u001b[0;36mModelData.__init__\u001b[1;34m(self, endog, exog, missing, hasconst, **kwargs)\u001b[0m\n\u001b[0;32m     86\u001b[0m \u001b[38;5;28mself\u001b[39m\u001b[38;5;241m.\u001b[39mconst_idx \u001b[38;5;241m=\u001b[39m \u001b[38;5;28;01mNone\u001b[39;00m\n\u001b[0;32m     87\u001b[0m \u001b[38;5;28mself\u001b[39m\u001b[38;5;241m.\u001b[39mk_constant \u001b[38;5;241m=\u001b[39m \u001b[38;5;241m0\u001b[39m\n\u001b[1;32m---> 88\u001b[0m \u001b[38;5;28mself\u001b[39m\u001b[38;5;241m.\u001b[39m_handle_constant(hasconst)\n\u001b[0;32m     89\u001b[0m \u001b[38;5;28mself\u001b[39m\u001b[38;5;241m.\u001b[39m_check_integrity()\n\u001b[0;32m     90\u001b[0m \u001b[38;5;28mself\u001b[39m\u001b[38;5;241m.\u001b[39m_cache \u001b[38;5;241m=\u001b[39m {}\n",
      "File \u001b[1;32mc:\\Users\\kianb\\anaconda3\\Lib\\site-packages\\statsmodels\\base\\data.py:133\u001b[0m, in \u001b[0;36mModelData._handle_constant\u001b[1;34m(self, hasconst)\u001b[0m\n\u001b[0;32m    131\u001b[0m check_implicit \u001b[38;5;241m=\u001b[39m \u001b[38;5;28;01mFalse\u001b[39;00m\n\u001b[0;32m    132\u001b[0m exog_max \u001b[38;5;241m=\u001b[39m np\u001b[38;5;241m.\u001b[39mmax(\u001b[38;5;28mself\u001b[39m\u001b[38;5;241m.\u001b[39mexog, axis\u001b[38;5;241m=\u001b[39m\u001b[38;5;241m0\u001b[39m)\n\u001b[1;32m--> 133\u001b[0m \u001b[38;5;28;01mif\u001b[39;00m \u001b[38;5;129;01mnot\u001b[39;00m np\u001b[38;5;241m.\u001b[39misfinite(exog_max)\u001b[38;5;241m.\u001b[39mall():\n\u001b[0;32m    134\u001b[0m     \u001b[38;5;28;01mraise\u001b[39;00m MissingDataError(\u001b[38;5;124m'\u001b[39m\u001b[38;5;124mexog contains inf or nans\u001b[39m\u001b[38;5;124m'\u001b[39m)\n\u001b[0;32m    135\u001b[0m exog_min \u001b[38;5;241m=\u001b[39m np\u001b[38;5;241m.\u001b[39mmin(\u001b[38;5;28mself\u001b[39m\u001b[38;5;241m.\u001b[39mexog, axis\u001b[38;5;241m=\u001b[39m\u001b[38;5;241m0\u001b[39m)\n",
      "\u001b[1;31mTypeError\u001b[0m: ufunc 'isfinite' not supported for the input types, and the inputs could not be safely coerced to any supported types according to the casting rule ''safe''"
     ]
    }
   ],
   "source": [
    "import pandas as pd\n",
    "import statsmodels.api as sm\n",
    "# import statsmodels.formula.api as smf # linear regression\n",
    "duncan_prestige = sm.datasets.get_rdataset(\"Duncan\", \"carData\")\n",
    "\n",
    "# Define your design matrix and your target variable \n",
    "data = np.asarray(df)\n",
    "Y = data[:, 1]\n",
    "\n",
    "# Add a constant to the features to account for the intercept in the model\n",
    "X = sm.add_constant(data[:, -2], prepend=False)\n",
    "\n",
    "# Fit the model\n",
    "model = sm.OLS(Y, X)\n",
    "\n",
    "model = model.fit()\n",
    "\n",
    "print(model.summary())"
   ]
  },
  {
   "cell_type": "markdown",
   "id": "732f0a97",
   "metadata": {},
   "source": [
    "### b) Inference by `Empirical Posterior` Simulations\n",
    "\n",
    "Simulate 1000 values from the empirical posterior distribution of each of your coefficients. Plot the histogram for each of these coefficient simulations, and calculate: i. the proportion of simulation that are above 0; ii. the Monte Carlo Median and 95% prediction interval for each coefficient; iii. Comment on the significance and magnitude of the effects. "
   ]
  },
  {
   "cell_type": "code",
   "execution_count": null,
   "id": "92057eb5",
   "metadata": {},
   "outputs": [],
   "source": [
    "import matplotlib.pyplot as plt\n",
    "\n",
    "# Simulate values from empirical posterior distribution of model coefficients\n",
    "\n",
    "# Hint: use the np.random.multivariate_normal function to simulate form a multivariate normal, \n",
    "# covariance matrix `cov_params()' from the model. \n"
   ]
  },
  {
   "cell_type": "markdown",
   "id": "e8691d50",
   "metadata": {},
   "source": [
    "### c) Generate Predicted Values and Estimate Statistics\n",
    "\n",
    "For each record in your dataset, generate predicted values. Use the package which you are using for fitting the regression model to output a) point estimates for each fitted value; b) the expected standard error of those estimates. Use these to generate 1000 samples from the empirical posterior distribution of the fitted values, and estimate the Monte Carlo Median and the 95% prediction interval."
   ]
  },
  {
   "cell_type": "code",
   "execution_count": null,
   "id": "c8041835",
   "metadata": {},
   "outputs": [],
   "source": [
    "import statsmodels.api as sm\n",
    "\n",
    "\n",
    "# Step 1: Prepare the new dataset - remember to add a constant if your model includes an intercept\n",
    "X_new = X\n",
    "...\n",
    "\n",
    "# Step 2: Predict new values (use the model.predict function)\n",
    "...\n",
    "\n",
    "# Step 3: Calculate standard errors of the predictions\n",
    "cov_matrix = ...\n",
    "design_matrix = X_new_with_const\n",
    "variances = np.diag(np.dot(np.dot(design_matrix, cov_matrix), design_matrix.T))\n",
    "std_errors_predictions = ...\n",
    "\n",
    "# Generate posterior samples\n",
    "new_predictions_array = np.array(new_predictions)[:, None]  # Convert to numpy array and add new axis\n",
    "std_errors_predictions_array = np.array(std_errors_predictions)[:, None]  # Convert to numpy array and add new axis\n",
    "\n",
    "predicted_samples = np.random.normal(loc=...,\n",
    "                                     scale=...,\n",
    "                                     size=(..., 1000))\n",
    "\n",
    "monte_carlo_medians = ...\n",
    "prediction_intervals = np.percentile(...)\n"
   ]
  },
  {
   "cell_type": "markdown",
   "id": "72c4d5e9",
   "metadata": {},
   "source": [
    "### d) Plot Observed vs. Predicted Values with Prediction Intervals\n",
    "\n",
    "Plot the observed values (on the y-axis) against the Monte Carlo Median of the fitted values (x-axis) for each observation. On the same plot, find a way to add the prediction intervals around your fitted values. Make sure the y and x axis span the same support, and add a y = x line to the plot. Comment on what the plot shows - does your model recover good predictions ? How can you tell ? Play around with your model and look how including / removing complexity changes the performance. "
   ]
  },
  {
   "cell_type": "code",
   "execution_count": null,
   "id": "4e34b06d",
   "metadata": {
    "scrolled": false
   },
   "outputs": [],
   "source": [
    "...\n",
    "\n",
    "# Plotting\n",
    "scatter = plt.scatter(..., y,...)\n",
    "errorbar = plt.errorbar(..., y, xerr=np.abs(prediction_intervals - monte_carlo_medians), ...)\n",
    "y_equals_x = plt.plot(..., 'k--', zorder=3, label='y = x')\n",
    "\n",
    "...\n",
    "\n",
    "plt.title('Observed vs. Predicted Values')\n",
    "plt.xlabel('Predicted Values')\n",
    "plt.ylabel('Observed Values')\n",
    "plt.show()\n"
   ]
  },
  {
   "cell_type": "code",
   "execution_count": null,
   "id": "a2abc48b",
   "metadata": {},
   "outputs": [],
   "source": []
  },
  {
   "cell_type": "code",
   "execution_count": null,
   "id": "5c42c8ce",
   "metadata": {},
   "outputs": [],
   "source": []
  }
 ],
 "metadata": {
  "kernelspec": {
   "display_name": "Python 3 (ipykernel)",
   "language": "python",
   "name": "python3"
  },
  "language_info": {
   "codemirror_mode": {
    "name": "ipython",
    "version": 3
   },
   "file_extension": ".py",
   "mimetype": "text/x-python",
   "name": "python",
   "nbconvert_exporter": "python",
   "pygments_lexer": "ipython3",
   "version": "3.11.5"
  }
 },
 "nbformat": 4,
 "nbformat_minor": 5
}
