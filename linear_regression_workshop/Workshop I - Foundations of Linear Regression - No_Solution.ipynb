{
 "cells": [
  {
   "cell_type": "markdown",
   "id": "1b4b07a8",
   "metadata": {},
   "source": [
    "# Foundations of Linear Regression"
   ]
  },
  {
   "cell_type": "markdown",
   "id": "3339f782",
   "metadata": {},
   "source": [
    "## Exercise 1: Understanding the Likelihood of Observations Under a Given Gaussian Model "
   ]
  },
  {
   "cell_type": "markdown",
   "id": "6b8f06a5",
   "metadata": {},
   "source": [
    "### Question 1a: Gaussian Likelihood Function\n",
    "Write a function to compute the likelihood of observing a set of values under a normal distribution with mean mu and variance sigma^2. The function should accept an observation Y, a mean value mu, and a standard deviation sigma, and return the likelihood of observing Y under these parameters."
   ]
  },
  {
   "cell_type": "code",
   "execution_count": 8,
   "id": "8fc9d011",
   "metadata": {},
   "outputs": [],
   "source": [
    "#Before we predict, we have assumptions that need to be met: Normally distributed, data is generated independently of others\n",
    "#Maximum likelihood function - estimate paramaters of a probability distribution\n",
    "#https://towardsdatascience.com/probability-concepts-explained-maximum-likelihood-estimation-c7b4342fdbb1\n",
    "#calculate the total probability of observing all of the data (i.e. the joint probability distribution)"
   ]
  },
  {
   "cell_type": "code",
   "execution_count": 9,
   "id": "31f6c292",
   "metadata": {},
   "outputs": [],
   "source": [
    "import numpy as np\n",
    "from scipy.stats import norm"
   ]
  },
  {
   "cell_type": "code",
   "execution_count": 10,
   "id": "4f84aac6",
   "metadata": {},
   "outputs": [],
   "source": [
    "def normal_pdf(y, mu, sigma):\n",
    "    return norm.pdf(y,mu,sigma)"
   ]
  },
  {
   "cell_type": "markdown",
   "id": "ed8abc44",
   "metadata": {},
   "source": [
    "### Question 1b: Likelihood Under Standard Normal Model\n",
    "Simulate a sequence of values from -5 to 5 (with a step of 0.1) and calculate the likelihood of each value under a Standard Normal model (mu=0, sigma=1). Plot these likelihood values and discuss the shape of the plot."
   ]
  },
  {
   "cell_type": "code",
   "execution_count": 11,
   "id": "f9c53645",
   "metadata": {},
   "outputs": [
    {
     "data": {
      "text/plain": [
       "[<matplotlib.lines.Line2D at 0x1dacc628190>]"
      ]
     },
     "execution_count": 11,
     "metadata": {},
     "output_type": "execute_result"
    },
    {
     "data": {
      "image/png": "[encoded data removed]",
      "text/plain": [
       "<Figure size 640x480 with 1 Axes>"
      ]
     },
     "metadata": {},
     "output_type": "display_data"
    }
   ],
   "source": [
    "import matplotlib.pyplot as plt\n",
    "\n",
    "y = np.arange(start = -5, stop = 5, step = 0.1)\n",
    "\n",
    "pdf = normal_pdf(y,0,1)\n",
    "\n",
    "plt.plot(pdf)\n",
    "    "
   ]
  },
  {
   "cell_type": "code",
   "execution_count": 12,
   "id": "344729a1",
   "metadata": {},
   "outputs": [
    {
     "name": "stdout",
     "output_type": "stream",
     "text": [
      "[1.48671951e-06 2.43896075e-06 3.96129909e-06 6.36982518e-06\n",
      " 1.01408521e-05 1.59837411e-05 2.49424713e-05 3.85351967e-05\n",
      " 5.89430678e-05 8.92616572e-05 1.33830226e-04 1.98655471e-04\n",
      " 2.91946926e-04 4.24780271e-04 6.11901930e-04 8.72682695e-04\n",
      " 1.23221917e-03 1.72256894e-03 2.38408820e-03 3.26681906e-03\n",
      " 4.43184841e-03 5.95253242e-03 7.91545158e-03 1.04209348e-02\n",
      " 1.35829692e-02 1.75283005e-02 2.23945303e-02 2.83270377e-02\n",
      " 3.54745928e-02 4.39835960e-02 5.39909665e-02 6.56158148e-02\n",
      " 7.89501583e-02 9.40490774e-02 1.10920835e-01 1.29517596e-01\n",
      " 1.49727466e-01 1.71368592e-01 1.94186055e-01 2.17852177e-01\n",
      " 2.41970725e-01 2.66085250e-01 2.89691553e-01 3.12253933e-01\n",
      " 3.33224603e-01 3.52065327e-01 3.68270140e-01 3.81387815e-01\n",
      " 3.91042694e-01 3.96952547e-01 3.98942280e-01 3.96952547e-01\n",
      " 3.91042694e-01 3.81387815e-01 3.68270140e-01 3.52065327e-01\n",
      " 3.33224603e-01 3.12253933e-01 2.89691553e-01 2.66085250e-01\n",
      " 2.41970725e-01 2.17852177e-01 1.94186055e-01 1.71368592e-01\n",
      " 1.49727466e-01 1.29517596e-01 1.10920835e-01 9.40490774e-02\n",
      " 7.89501583e-02 6.56158148e-02 5.39909665e-02 4.39835960e-02\n",
      " 3.54745928e-02 2.83270377e-02 2.23945303e-02 1.75283005e-02\n",
      " 1.35829692e-02 1.04209348e-02 7.91545158e-03 5.95253242e-03\n",
      " 4.43184841e-03 3.26681906e-03 2.38408820e-03 1.72256894e-03\n",
      " 1.23221917e-03 8.72682695e-04 6.11901930e-04 4.24780271e-04\n",
      " 2.91946926e-04 1.98655471e-04 1.33830226e-04 8.92616572e-05\n",
      " 5.89430678e-05 3.85351967e-05 2.49424713e-05 1.59837411e-05\n",
      " 1.01408521e-05 6.36982518e-06 3.96129909e-06 2.43896075e-06]\n"
     ]
    }
   ],
   "source": [
    "print(pdf)"
   ]
  },
  {
   "cell_type": "markdown",
   "id": "60af180f",
   "metadata": {},
   "source": [
    "## Exercise 2: Playing with Linear Regression\n",
    "\n",
    "We will work with the `Time-for-change` regression model to predict the results of the US elections. The goal of the model is to estimate the % of the two-party (Republican + Democrat) vote from 3 variables: the `incumbency` (i.e. whether the incumbent party candidate is seeking re-election or if it's a new candidate) of the president; the growth rate of the economy; and the approval rating of the incumbent party president. "
   ]
  },
  {
   "cell_type": "markdown",
   "id": "7c423554",
   "metadata": {},
   "source": [
    "### Question 2a: Linear Regression Model\n",
    "Estimate a linear regression model to predict vote share using at least one categorical variable (if applicable) and one numeric variable."
   ]
  },
  {
   "cell_type": "code",
   "execution_count": 13,
   "id": "dba41ad4",
   "metadata": {},
   "outputs": [],
   "source": [
    "import os\n",
    "\n",
    "# Change working directory to where you store the Camp files \n",
    "#os.chdir('')"
   ]
  },
  {
   "cell_type": "code",
   "execution_count": 14,
   "id": "6b9ee7ff",
   "metadata": {},
   "outputs": [],
   "source": [
    "import pandas as pd\n",
    "\n",
    "# load Historical Election Results dataset\n",
    "df = pd.read_csv('Camp_Election.Oracle/Historical Election Results/MIT_Lab_Historical_Election_Results/1976-2020-president.csv')"
   ]
  },
  {
   "cell_type": "markdown",
   "id": "65204f6e",
   "metadata": {},
   "source": [
    "Here I want to include in this dataset the necessary tools to perform the `time for change` model. I need to augment the dataset with a) the `incumbency` of the party / president ; b) the real GDP growth in the year of the election; c) the `approval rating` of the incumbent president on the eve of the election. "
   ]
  },
  {
   "cell_type": "code",
   "execution_count": 15,
   "id": "fe8860f8",
   "metadata": {},
   "outputs": [],
   "source": [
    "# Here we do a little data Wrangling to improve the dataset for analysis\n",
    "\n",
    "# Focus on Democrats and Republicans only \n",
    "df = df[df['party_simplified'].str.contains('DEMOCRAT') | df['party_simplified'].str.contains('REPUBLICAN')]\n",
    "\n",
    "# Calculate the two-party total votes for each state and year\n",
    "df['two_party_total'] = df.groupby(['year', 'state'])['candidatevotes'].transform('sum')\n",
    "\n",
    "# Calculate the percentage of the two-party vote afforded to each party\n",
    "df['pct_2p_vote'] = 100*df['candidatevotes'] / df['two_party_total']\n",
    "\n",
    "# define a function that returns the incumbent and whether the incumbent party is seeking their 2nd term in office\n",
    "def identify_incumbent_complete(year):\n",
    "    if year in [1976]:\n",
    "        return ('REPUBLICAN', 0)  # Ford (Continuing Nixon's term)\n",
    "    elif year in [1980]:\n",
    "        return ('DEMOCRAT', 1)  # Carter\n",
    "    elif year in [1984, 1988]:\n",
    "        return ('REPUBLICAN', 1 if year == 1984 else 0)  # Reagan\n",
    "    elif year in [1992]:\n",
    "        return ('REPUBLICAN', 0)  # H.W. Bush (continuing Republican (Reagan) term)\n",
    "    elif year in [1996, 2000]:\n",
    "        return ('DEMOCRAT', 1 if year == 1996 else 0)  # Clinton\n",
    "    elif year in [2004, 2008]:\n",
    "        return ('REPUBLICAN', 1 if year == 2004 else 0)  # W. Bush\n",
    "    elif year in [2012, 2016]:\n",
    "        return ('DEMOCRAT', 1 if year == 2012 else 0)  # Obama\n",
    "    elif year in [2020]:\n",
    "        return ('REPUBLICAN', 1)  # Trump\n",
    "    else:\n",
    "        return ('None', 0)  # Default for years without a U.S. presidential election\n",
    "\n",
    "# Apply the function to each row\n",
    "df['incumbent_party'] = 'None'\n",
    "df['term2'] = 0\n",
    "for index, row in df.iterrows():\n",
    "    incumbent_party, term2 = identify_incumbent_complete(row['year'])\n",
    "    df.at[index, 'incumbent_party'] = incumbent_party\n",
    "    df.at[index, 'term2'] = term2\n",
    "\n",
    "# Now we can focus on the incumbent party, and focus our analysis to ask `what is the chance that the share of the vote the incmumbent will get ? \n",
    "df['incumbent_dummy'] = np.where(df['incumbent_party']==df['party_simplified'],1,0)\n",
    "df = df[df['incumbent_dummy'] == 1]\n",
    "\n",
    "# and we only need a few variables \n",
    "df = df[['year','state','pct_2p_vote','term2']]"
   ]
  },
  {
   "cell_type": "code",
   "execution_count": 16,
   "id": "0b6ec76e",
   "metadata": {},
   "outputs": [],
   "source": [
    "# augment with national GDP data \n",
    "aux_gdp = pd.read_csv('Camp_Election.Oracle/Historical_National.US.GDP.csv')\n",
    "aux_gdp = aux_gdp[aux_gdp['Items']=='Gross domestic product']\n",
    "\n",
    "# melt \n",
    "aux_gdp = pd.melt(aux_gdp, id_vars='Items',var_name='year',value_name='real_gdp_pct_growth')\n",
    "aux_gdp = aux_gdp[['year','real_gdp_pct_growth']]\n",
    "aux_gdp['real_gdp_pct_growth'] = pd.to_numeric(aux_gdp['real_gdp_pct_growth'])\n",
    "\n",
    "# merge with df \n",
    "df['year'] = df['year'].astype(int)  # Convert to int\n",
    "aux_gdp['year'] = aux_gdp['year'].astype(int)  # Ensure this matches df\n",
    "df = pd.merge(df, aux_gdp, on='year', how='left')"
   ]
  },
  {
   "cell_type": "code",
   "execution_count": 17,
   "id": "95fedec9",
   "metadata": {},
   "outputs": [],
   "source": [
    "# augment with incumbent's approval rating\n",
    "aux_app = pd.read_csv('Camp_Election.Oracle/Historical_President.Approval.Polls_Gallup.csv')\n",
    "aux_app['net_approval'] = aux_app['Approving'] - aux_app['Disapproving']\n",
    "\n",
    "# select only the approval polls right closest to the election\n",
    "import pandas as pd\n",
    "\n",
    "def last_approval_before_election(data):\n",
    "    \"\"\"\n",
    "    Selects the last approval poll before each presidential election in the dataset.\n",
    "    \n",
    "    :param data: A pandas DataFrame with columns 'Start Date', 'End Date', 'Approving', 'Disapproving', 'Unsure/NoData', and 'net_approval'.\n",
    "    :return: A pandas DataFrame with the selected polls.\n",
    "    \"\"\"\n",
    "    # Convert date columns to datetime\n",
    "    data['Start Date'] = pd.to_datetime(data['Start Date'])\n",
    "    data['End Date'] = pd.to_datetime(data['End Date'])\n",
    "    \n",
    "    # Sort the data by 'End Date' to ensure chronological order\n",
    "    data.sort_values(by='End Date', inplace=True)\n",
    "    \n",
    "    # Identify the range of years in the dataset\n",
    "    start_year = data['End Date'].dt.year.min()\n",
    "    end_year = data['End Date'].dt.year.max()\n",
    "    \n",
    "    # Presidential elections are held every 4 years, starting from 1944\n",
    "    election_years = [year for year in range(start_year, end_year+1) if year % 4 == 0 and year >= 1944]\n",
    "    \n",
    "    selected_polls = []\n",
    "    for year in election_years:\n",
    "        # Election date: first Tuesday after the first Monday in November\n",
    "        # Simplification: use November 1st as a base, then adjust\n",
    "        base_date = pd.Timestamp(year=year, month=11, day=1)\n",
    "        day_of_week = base_date.dayofweek\n",
    "        election_date = base_date + pd.Timedelta(days=(1-day_of_week) % 7 + 1)\n",
    "        \n",
    "        # Select the last poll before the election\n",
    "        last_poll = data[data['End Date'] < election_date].iloc[-1]\n",
    "        selected_polls.append(last_poll)\n",
    "    \n",
    "    return pd.DataFrame(selected_polls)\n",
    "\n",
    "# apply the function\n",
    "aux_app = last_approval_before_election(aux_app)\n",
    "\n",
    "# extract relevant year\n",
    "aux_app['year'] = aux_app['End Date'].astype(str).str[:4].astype(int)\n",
    "\n",
    "# drop unnecessary variables \n",
    "aux_app = aux_app[['year','net_approval']]\n",
    "\n",
    "# merge with election results dataset \n",
    "df = pd.merge(df, aux_app, on='year', how='left')"
   ]
  },
  {
   "cell_type": "code",
   "execution_count": 20,
   "id": "7fc4061f",
   "metadata": {
    "scrolled": false
   },
   "outputs": [
    {
     "name": "stdout",
     "output_type": "stream",
     "text": [
      "     year          state  pct_2p_vote  term2  real_gdp_pct_growth  \\\n",
      "0    1976        ALABAMA    43.333276      0                  5.4   \n",
      "1    1976         ALASKA    61.891829      0                  5.4   \n",
      "2    1976        ARIZONA    58.613303      0                  5.4   \n",
      "3    1976       ARKANSAS    34.951149      0                  5.4   \n",
      "4    1976     CALIFORNIA    50.917827      0                  5.4   \n",
      "..    ...            ...          ...    ...                  ...   \n",
      "609  2020       VIRGINIA    44.845313      1                 -2.2   \n",
      "610  2020     WASHINGTON    40.074497      1                 -2.2   \n",
      "611  2020  WEST VIRGINIA    69.798532      1                 -2.2   \n",
      "612  2020      WISCONSIN    49.680937      1                 -2.2   \n",
      "613  2020        WYOMING    72.480434      1                 -2.2   \n",
      "\n",
      "     net_approval  \n",
      "0               5  \n",
      "1               5  \n",
      "2               5  \n",
      "3               5  \n",
      "4               5  \n",
      "..            ...  \n",
      "609            -6  \n",
      "610            -6  \n",
      "611            -6  \n",
      "612            -6  \n",
      "613            -6  \n",
      "\n",
      "[614 rows x 6 columns]\n"
     ]
    }
   ],
   "source": [
    "# Let's see the results of our effors\n",
    "print(df)\n",
    "\n",
    "# Write this to a csv so we can use it in later workshops\n",
    "df.to_csv('clean_TFC_data.csv', index=False)"
   ]
  },
  {
   "cell_type": "markdown",
   "id": "3aab3565",
   "metadata": {},
   "source": [
    "### Now we estimate the `time for change` regression"
   ]
  },
  {
   "cell_type": "code",
   "execution_count": 39,
   "id": "0cbea9a9",
   "metadata": {},
   "outputs": [
    {
     "name": "stdout",
     "output_type": "stream",
     "text": [
      "                            OLS Regression Results                            \n",
      "==============================================================================\n",
      "Dep. Variable:            pct_2p_vote   R-squared:                       0.098\n",
      "Model:                            OLS   Adj. R-squared:                  0.012\n",
      "Method:                 Least Squares   F-statistic:                     1.146\n",
      "Date:                Tue, 06 Feb 2024   Prob (F-statistic):              0.230\n",
      "Time:                        16:01:55   Log-Likelihood:                -2330.6\n",
      "No. Observations:                 614   AIC:                             4769.\n",
      "Df Residuals:                     560   BIC:                             5008.\n",
      "Df Model:                          53                                         \n",
      "Covariance Type:            nonrobust                                         \n",
      "========================================================================================\n",
      "                           coef    std err          t      P>|t|      [0.025      0.975]\n",
      "----------------------------------------------------------------------------------------\n",
      "const                   49.3798      0.446    110.616      0.000      48.503      50.257\n",
      "ALABAMA                  2.0498      3.223      0.636      0.525      -4.281       8.381\n",
      "ALASKA                   2.1012      3.223      0.652      0.515      -4.230       8.432\n",
      "ARIZONA                 -1.4637      3.100     -0.472      0.637      -7.553       4.625\n",
      "ARKANSAS                 0.8194      3.223      0.254      0.799      -5.512       7.151\n",
      "CALIFORNIA               0.7916      3.223      0.246      0.806      -5.540       7.123\n",
      "COLORADO                 0.4916      3.223      0.153      0.879      -5.840       6.823\n",
      "CONNECTICUT              1.8829      3.223      0.584      0.559      -4.448       8.214\n",
      "DELAWARE                 1.5879      3.223      0.493      0.622      -4.743       7.919\n",
      "DISTRICT OF COLUMBIA    -5.1837      3.223     -1.608      0.108     -11.515       1.148\n",
      "FLORIDA                  2.4304      3.223      0.754      0.451      -3.901       8.762\n",
      "GEORGIA                  1.3129      3.223      0.407      0.684      -5.018       7.644\n",
      "HAWAII                   1.8449      3.223      0.572      0.567      -4.486       8.176\n",
      "IDAHO                    2.0526      3.223      0.637      0.525      -4.279       8.384\n",
      "ILLINOIS                 0.8100      3.223      0.251      0.802      -5.521       7.141\n",
      "INDIANA                  1.5877      3.223      0.493      0.622      -4.743       7.919\n",
      "IOWA                    -0.0750      3.223     -0.023      0.981      -6.406       6.256\n",
      "KANSAS                   0.8165      3.223      0.253      0.800      -5.515       7.148\n",
      "KENTUCKY                 1.1961      3.223      0.371      0.711      -5.135       7.527\n",
      "LOUISIANA                2.1227      3.223      0.659      0.510      -4.209       8.454\n",
      "MAINE                    1.9526      3.223      0.606      0.545      -4.379       8.284\n",
      "MARYLAND                -2.8522      3.100     -0.920      0.358      -8.941       3.237\n",
      "MASSACHUSETTS            0.1057      3.223      0.033      0.974      -6.225       6.437\n",
      "MICHIGAN                 1.5483      3.223      0.480      0.631      -4.783       7.879\n",
      "MINNESOTA               -0.3033      3.223     -0.094      0.925      -6.634       6.028\n",
      "MISSISSIPPI              2.6456      3.223      0.821      0.412      -3.686       8.977\n",
      "MISSOURI                 0.5175      3.223      0.161      0.873      -5.814       6.849\n",
      "MONTANA                 -0.2829      3.223     -0.088      0.930      -6.614       6.048\n",
      "NEBRASKA                 1.9238      3.223      0.597      0.551      -4.407       8.255\n",
      "NEVADA                   1.0943      3.223      0.340      0.734      -5.237       7.425\n",
      "NEW HAMPSHIRE            2.1710      3.223      0.674      0.501      -4.160       8.502\n",
      "NEW JERSEY               2.6786      3.223      0.831      0.406      -3.653       9.010\n",
      "NEW MEXICO               0.6345      3.223      0.197      0.844      -5.697       6.966\n",
      "NEW YORK                 1.3001      3.223      0.403      0.687      -5.031       7.631\n",
      "NORTH CAROLINA           1.3467      3.223      0.418      0.676      -4.984       7.678\n",
      "NORTH DAKOTA             0.5483      3.223      0.170      0.865      -5.783       6.879\n",
      "OHIO                     1.4227      3.223      0.441      0.659      -4.908       7.754\n",
      "OKLAHOMA                 2.0253      3.223      0.628      0.530      -4.306       8.356\n",
      "OREGON                  -0.2092      3.223     -0.065      0.948      -6.540       6.122\n",
      "PENNSYLVANIA             0.3361      3.223      0.104      0.917      -5.995       6.667\n",
      "RHODE ISLAND             1.1291      3.223      0.350      0.726      -5.202       7.460\n",
      "SOUTH CAROLINA           1.9792      3.223      0.614      0.539      -4.352       8.310\n",
      "SOUTH DAKOTA             0.0924      3.223      0.029      0.977      -6.239       6.424\n",
      "TENNESSEE                1.3678      3.223      0.424      0.671      -4.963       7.699\n",
      "TEXAS                    1.2408      3.223      0.385      0.700      -5.090       7.572\n",
      "UTAH                     2.3692      3.223      0.735      0.463      -3.962       8.700\n",
      "VERMONT                  1.2367      3.223      0.384      0.701      -5.094       7.568\n",
      "VIRGINIA                 1.8487      3.223      0.574      0.567      -4.482       8.180\n",
      "WASHINGTON               0.4120      3.223      0.128      0.898      -5.919       6.743\n",
      "WEST VIRGINIA           -0.0835      3.223     -0.026      0.979      -6.415       6.248\n",
      "WISCONSIN                0.4514      3.223      0.140      0.889      -5.880       6.783\n",
      "WYOMING                  1.5566      3.223      0.483      0.629      -4.775       7.888\n",
      "term2                    1.7604      0.497      3.543      0.000       0.784       2.736\n",
      "real_gdp_pct_growth      2.6152      0.621      4.210      0.000       1.395       3.835\n",
      "net_approval             0.4731      0.627      0.754      0.451      -0.759       1.705\n",
      "==============================================================================\n",
      "Omnibus:                       55.334   Durbin-Watson:                   1.826\n",
      "Prob(Omnibus):                  0.000   Jarque-Bera (JB):              305.025\n",
      "Skew:                           0.042   Prob(JB):                     5.82e-67\n",
      "Kurtosis:                       6.452   Cond. No.                     7.46e+15\n",
      "==============================================================================\n",
      "\n",
      "Notes:\n",
      "[1] Standard Errors assume that the covariance matrix of the errors is correctly specified.\n",
      "[2] The smallest eigenvalue is 1.79e-29. This might indicate that there are\n",
      "strong multicollinearity problems or that the design matrix is singular.\n"
     ]
    }
   ],
   "source": [
    "#state, \n",
    "import pandas as pd\n",
    "import statsmodels.api as sm\n",
    "from sklearn.preprocessing import OneHotEncoder, StandardScaler\n",
    "\n",
    "# Define your design matrix and your target variable \n",
    "\n",
    "#encoder for categorical varibales\n",
    "enc = OneHotEncoder()\n",
    "#state column turn into matrix\n",
    "state = df['state']\n",
    "label_states = np.unique(state)\n",
    "state_transformed = enc.fit_transform(state.values.reshape(-1,1)).toarray()\n",
    "state_transformed = pd.DataFrame(state_transformed, columns = label_states)\n",
    "\n",
    "\n",
    "#transform numerical varibales\n",
    "scaler = StandardScaler()\n",
    "numerical = df[['term2', 'real_gdp_pct_growth', 'net_approval']]\n",
    "numerical_labels = numerical.columns\n",
    "numerical_transformed = scaler.fit_transform(numerical)\n",
    "numerical_transformed = pd.DataFrame(numerical_transformed, columns = numerical_labels)\n",
    "\n",
    "#y value\n",
    "y = df['pct_2p_vote']\n",
    "\n",
    "#x value\n",
    "x = pd.concat([state_transformed, numerical_transformed], axis = 1)\n",
    "\n",
    "# Add a constant to the features to account for the intercept in the model\n",
    "x = sm.add_constant(x)\n",
    "\n",
    "# Fit the model\n",
    "model = sm.OLS(y,x).fit()\n",
    "predictions = model.predict(x)\n",
    "\n",
    "print(model.summary())"
   ]
  },
  {
   "cell_type": "markdown",
   "id": "732f0a97",
   "metadata": {},
   "source": [
    "### b) Inference by `Empirical Posterior` Simulations\n",
    "\n",
    "Simulate 1000 values from the empirical posterior distribution of each of your coefficients. Plot the histogram for each of these coefficient simulations, and calculate: i. the proportion of simulation that are above 0; ii. the Monte Carlo Median and 95% prediction interval for each coefficient; iii. Comment on the significance and magnitude of the effects. "
   ]
  },
  {
   "cell_type": "code",
   "execution_count": null,
   "id": "92057eb5",
   "metadata": {},
   "outputs": [],
   "source": [
    "import matplotlib.pyplot as plt\n",
    "\n",
    "# Simulate values from empirical posterior distribution of model coefficients\n",
    "\n",
    "# Hint: use the np.random.multivariate_normal function to simulate form a multivariate normal, \n",
    "# covariance matrix `cov_params()' from the model. \n"
   ]
  },
  {
   "cell_type": "markdown",
   "id": "e8691d50",
   "metadata": {},
   "source": [
    "### c) Generate Predicted Values and Estimate Statistics\n",
    "\n",
    "For each record in your dataset, generate predicted values. Use the package which you are using for fitting the regression model to output a) point estimates for each fitted value; b) the expected standard error of those estimates. Use these to generate 1000 samples from the empirical posterior distribution of the fitted values, and estimate the Monte Carlo Median and the 95% prediction interval."
   ]
  },
  {
   "cell_type": "code",
   "execution_count": null,
   "id": "c8041835",
   "metadata": {},
   "outputs": [],
   "source": [
    "import statsmodels.api as sm\n",
    "\n",
    "\n",
    "# Step 1: Prepare the new dataset - remember to add a constant if your model includes an intercept\n",
    "X_new = X\n",
    "...\n",
    "\n",
    "# Step 2: Predict new values (use the model.predict function)\n",
    "...\n",
    "\n",
    "# Step 3: Calculate standard errors of the predictions\n",
    "cov_matrix = ...\n",
    "design_matrix = X_new_with_const\n",
    "variances = np.diag(np.dot(np.dot(design_matrix, cov_matrix), design_matrix.T))\n",
    "std_errors_predictions = ...\n",
    "\n",
    "# Generate posterior samples\n",
    "new_predictions_array = np.array(new_predictions)[:, None]  # Convert to numpy array and add new axis\n",
    "std_errors_predictions_array = np.array(std_errors_predictions)[:, None]  # Convert to numpy array and add new axis\n",
    "\n",
    "predicted_samples = np.random.normal(loc=...,\n",
    "                                     scale=...,\n",
    "                                     size=(..., 1000))\n",
    "\n",
    "monte_carlo_medians = ...\n",
    "prediction_intervals = np.percentile(...)\n"
   ]
  },
  {
   "cell_type": "markdown",
   "id": "72c4d5e9",
   "metadata": {},
   "source": [
    "### d) Plot Observed vs. Predicted Values with Prediction Intervals\n",
    "\n",
    "Plot the observed values (on the y-axis) against the Monte Carlo Median of the fitted values (x-axis) for each observation. On the same plot, find a way to add the prediction intervals around your fitted values. Make sure the y and x axis span the same support, and add a y = x line to the plot. Comment on what the plot shows - does your model recover good predictions ? How can you tell ? Play around with your model and look how including / removing complexity changes the performance. "
   ]
  },
  {
   "cell_type": "code",
   "execution_count": null,
   "id": "4e34b06d",
   "metadata": {
    "scrolled": false
   },
   "outputs": [],
   "source": [
    "...\n",
    "\n",
    "# Plotting\n",
    "scatter = plt.scatter(..., y,...)\n",
    "errorbar = plt.errorbar(..., y, xerr=np.abs(prediction_intervals - monte_carlo_medians), ...)\n",
    "y_equals_x = plt.plot(..., 'k--', zorder=3, label='y = x')\n",
    "\n",
    "...\n",
    "\n",
    "plt.title('Observed vs. Predicted Values')\n",
    "plt.xlabel('Predicted Values')\n",
    "plt.ylabel('Observed Values')\n",
    "plt.show()\n"
   ]
  },
  {
   "cell_type": "code",
   "execution_count": null,
   "id": "a2abc48b",
   "metadata": {},
   "outputs": [],
   "source": []
  },
  {
   "cell_type": "code",
   "execution_count": null,
   "id": "5c42c8ce",
   "metadata": {},
   "outputs": [],
   "source": []
  }
 ],
 "metadata": {
  "kernelspec": {
   "display_name": "Python 3 (ipykernel)",
   "language": "python",
   "name": "python3"
  },
  "language_info": {
   "codemirror_mode": {
    "name": "ipython",
    "version": 3
   },
   "file_extension": ".py",
   "mimetype": "text/x-python",
   "name": "python",
   "nbconvert_exporter": "python",
   "pygments_lexer": "ipython3",
   "version": "3.10.13"
  }
 },
 "nbformat": 4,
 "nbformat_minor": 5
}
